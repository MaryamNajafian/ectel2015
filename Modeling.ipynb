{
 "cells": [
  {
   "cell_type": "markdown",
   "metadata": {
    "collapsed": true
   },
   "source": [
    "# EC-TEL 2015 Learning Analytics Workshop\n",
    "\n",
    "### Lalitha Agnihotri, Alfred Essa, Shirin Mojarad\n",
    "#### McGraw-Hill Education"
   ]
  },
  {
   "cell_type": "markdown",
   "metadata": {},
   "source": [
    "# Modeling and classification\n",
    "\n",
    "Next step after EDA is to create a model. The type of model depends on the task at hand such as prediction, classification, segmentation, etc. There are few steps to take for creating a machine learning model:\n",
    "\n",
    "- Pre-processig\n",
    "- Define input and output features\n",
    "- Split the data into trainin and test\n",
    "- Create a model using training set\n",
    "- Validate the model using test set\n",
    "- Create and compare feature sets/models"
   ]
  },
  {
   "cell_type": "markdown",
   "metadata": {
    "slideshow": {
     "slide_type": "subslide"
    }
   },
   "source": [
    "# Import libraries"
   ]
  },
  {
   "cell_type": "code",
   "execution_count": 34,
   "metadata": {
    "collapsed": false,
    "slideshow": {
     "slide_type": "fragment"
    }
   },
   "outputs": [],
   "source": [
    "import pandas as pd\n",
    "import numpy as np\n",
    "import matplotlib.pyplot as plt\n",
    "import matplotlib.patches as mpatches\n",
    "\n",
    "%matplotlib inline\n",
    "\n",
    "#k-means clustering\n",
    "from scipy.cluster.vq import kmeans,vq\n",
    "from sklearn import preprocessing\n",
    "from sklearn.cluster import KMeans\n",
    "\n",
    "# PLOTLY\n",
    "import plotly.plotly as py\n",
    "from plotly.graph_objs import *\n",
    "\n",
    "from sklearn.cross_validation import StratifiedShuffleSplit\n",
    "from sklearn import metrics\n",
    "from sklearn import ensemble\n",
    "\n",
    "from scipy import interp\n",
    "import matplotlib.pyplot as plt\n",
    "\n",
    "from sklearn import svm, datasets\n",
    "from sklearn.metrics import roc_curve, auc\n",
    "from sklearn.cross_validation import StratifiedKFold\n",
    "from scipy.stats.stats import pearsonr\n",
    "\n",
    "from matplotlib.colors import ListedColormap\n",
    "from sklearn import neighbors, datasets\n",
    "from sklearn.naive_bayes import GaussianNB as gnb\n",
    "from sklearn.linear_model import LogisticRegression\n",
    "from sklearn.ensemble import RandomForestClassifier as rfc\n",
    "import random \n",
    "from sklearn.metrics import roc_auc_score, roc_curve, auc\n",
    "from sklearn.metrics import precision_recall_fscore_support "
   ]
  },
  {
   "cell_type": "markdown",
   "metadata": {
    "slideshow": {
     "slide_type": "subslide"
    }
   },
   "source": [
    "# Load data"
   ]
  },
  {
   "cell_type": "code",
   "execution_count": 2,
   "metadata": {
    "collapsed": false,
    "scrolled": true,
    "slideshow": {
     "slide_type": "fragment"
    }
   },
   "outputs": [
    {
     "data": {
      "text/html": [
       "<div>\n",
       "<table border=\"1\" class=\"dataframe\">\n",
       "  <thead>\n",
       "    <tr style=\"text-align: right;\">\n",
       "      <th></th>\n",
       "      <th>course_id</th>\n",
       "      <th>user_id</th>\n",
       "      <th>registered</th>\n",
       "      <th>viewed</th>\n",
       "      <th>explored</th>\n",
       "      <th>certified</th>\n",
       "      <th>country</th>\n",
       "      <th>LevelofEducation</th>\n",
       "      <th>BirthYear</th>\n",
       "      <th>gender</th>\n",
       "      <th>grade</th>\n",
       "      <th>start_time_DI</th>\n",
       "      <th>last_event_DI</th>\n",
       "      <th>nevents</th>\n",
       "      <th>ndays_act</th>\n",
       "      <th>nplay_video</th>\n",
       "      <th>nchapters</th>\n",
       "      <th>nforum_posts</th>\n",
       "      <th>roles</th>\n",
       "      <th>incomplete_flag</th>\n",
       "    </tr>\n",
       "  </thead>\n",
       "  <tbody>\n",
       "    <tr>\n",
       "      <th>0</th>\n",
       "      <td>HarvardX/CB22x/2013_Spring</td>\n",
       "      <td>MHxPC130442623</td>\n",
       "      <td>1</td>\n",
       "      <td>0</td>\n",
       "      <td>0</td>\n",
       "      <td>0</td>\n",
       "      <td>United States</td>\n",
       "      <td>NaN</td>\n",
       "      <td>NaN</td>\n",
       "      <td>NaN</td>\n",
       "      <td>0</td>\n",
       "      <td>2012-12-19</td>\n",
       "      <td>2013-11-17</td>\n",
       "      <td>NaN</td>\n",
       "      <td>9</td>\n",
       "      <td>NaN</td>\n",
       "      <td>NaN</td>\n",
       "      <td>0</td>\n",
       "      <td>NaN</td>\n",
       "      <td>1</td>\n",
       "    </tr>\n",
       "    <tr>\n",
       "      <th>1</th>\n",
       "      <td>HarvardX/CS50x/2012</td>\n",
       "      <td>MHxPC130442623</td>\n",
       "      <td>1</td>\n",
       "      <td>1</td>\n",
       "      <td>0</td>\n",
       "      <td>0</td>\n",
       "      <td>United States</td>\n",
       "      <td>NaN</td>\n",
       "      <td>NaN</td>\n",
       "      <td>NaN</td>\n",
       "      <td>0</td>\n",
       "      <td>2012-10-15</td>\n",
       "      <td>NaT</td>\n",
       "      <td>NaN</td>\n",
       "      <td>9</td>\n",
       "      <td>NaN</td>\n",
       "      <td>1</td>\n",
       "      <td>0</td>\n",
       "      <td>NaN</td>\n",
       "      <td>1</td>\n",
       "    </tr>\n",
       "    <tr>\n",
       "      <th>2</th>\n",
       "      <td>HarvardX/CB22x/2013_Spring</td>\n",
       "      <td>MHxPC130275857</td>\n",
       "      <td>1</td>\n",
       "      <td>0</td>\n",
       "      <td>0</td>\n",
       "      <td>0</td>\n",
       "      <td>United States</td>\n",
       "      <td>NaN</td>\n",
       "      <td>NaN</td>\n",
       "      <td>NaN</td>\n",
       "      <td>0</td>\n",
       "      <td>2013-02-08</td>\n",
       "      <td>2013-11-17</td>\n",
       "      <td>NaN</td>\n",
       "      <td>16</td>\n",
       "      <td>NaN</td>\n",
       "      <td>NaN</td>\n",
       "      <td>0</td>\n",
       "      <td>NaN</td>\n",
       "      <td>1</td>\n",
       "    </tr>\n",
       "    <tr>\n",
       "      <th>3</th>\n",
       "      <td>HarvardX/CS50x/2012</td>\n",
       "      <td>MHxPC130275857</td>\n",
       "      <td>1</td>\n",
       "      <td>0</td>\n",
       "      <td>0</td>\n",
       "      <td>0</td>\n",
       "      <td>United States</td>\n",
       "      <td>NaN</td>\n",
       "      <td>NaN</td>\n",
       "      <td>NaN</td>\n",
       "      <td>0</td>\n",
       "      <td>2012-09-17</td>\n",
       "      <td>NaT</td>\n",
       "      <td>NaN</td>\n",
       "      <td>16</td>\n",
       "      <td>NaN</td>\n",
       "      <td>NaN</td>\n",
       "      <td>0</td>\n",
       "      <td>NaN</td>\n",
       "      <td>1</td>\n",
       "    </tr>\n",
       "    <tr>\n",
       "      <th>4</th>\n",
       "      <td>HarvardX/ER22x/2013_Spring</td>\n",
       "      <td>MHxPC130275857</td>\n",
       "      <td>1</td>\n",
       "      <td>0</td>\n",
       "      <td>0</td>\n",
       "      <td>0</td>\n",
       "      <td>United States</td>\n",
       "      <td>NaN</td>\n",
       "      <td>NaN</td>\n",
       "      <td>NaN</td>\n",
       "      <td>0</td>\n",
       "      <td>2012-12-19</td>\n",
       "      <td>NaT</td>\n",
       "      <td>NaN</td>\n",
       "      <td>16</td>\n",
       "      <td>NaN</td>\n",
       "      <td>NaN</td>\n",
       "      <td>0</td>\n",
       "      <td>NaN</td>\n",
       "      <td>1</td>\n",
       "    </tr>\n",
       "  </tbody>\n",
       "</table>\n",
       "</div>"
      ],
      "text/plain": [
       "                    course_id         user_id  registered  viewed  explored  \\\n",
       "0  HarvardX/CB22x/2013_Spring  MHxPC130442623           1       0         0   \n",
       "1         HarvardX/CS50x/2012  MHxPC130442623           1       1         0   \n",
       "2  HarvardX/CB22x/2013_Spring  MHxPC130275857           1       0         0   \n",
       "3         HarvardX/CS50x/2012  MHxPC130275857           1       0         0   \n",
       "4  HarvardX/ER22x/2013_Spring  MHxPC130275857           1       0         0   \n",
       "\n",
       "   certified        country LevelofEducation  BirthYear gender grade  \\\n",
       "0          0  United States              NaN        NaN    NaN     0   \n",
       "1          0  United States              NaN        NaN    NaN     0   \n",
       "2          0  United States              NaN        NaN    NaN     0   \n",
       "3          0  United States              NaN        NaN    NaN     0   \n",
       "4          0  United States              NaN        NaN    NaN     0   \n",
       "\n",
       "  start_time_DI last_event_DI  nevents  ndays_act  nplay_video  nchapters  \\\n",
       "0    2012-12-19    2013-11-17      NaN          9          NaN        NaN   \n",
       "1    2012-10-15           NaT      NaN          9          NaN          1   \n",
       "2    2013-02-08    2013-11-17      NaN         16          NaN        NaN   \n",
       "3    2012-09-17           NaT      NaN         16          NaN        NaN   \n",
       "4    2012-12-19           NaT      NaN         16          NaN        NaN   \n",
       "\n",
       "   nforum_posts  roles  incomplete_flag  \n",
       "0             0    NaN                1  \n",
       "1             0    NaN                1  \n",
       "2             0    NaN                1  \n",
       "3             0    NaN                1  \n",
       "4             0    NaN                1  "
      ]
     },
     "execution_count": 2,
     "metadata": {},
     "output_type": "execute_result"
    }
   ],
   "source": [
    "edx = pd.read_csv('edx.csv',  parse_dates=['start_time_DI','last_event_DI'])\n",
    "edx = edx.rename(columns={'final_cc_cname_DI':'country', 'userid_DI':'user_id', 'YoB': 'BirthYear','LoE_DI':'LevelofEducation'  })\n",
    "edx.head()"
   ]
  },
  {
   "cell_type": "markdown",
   "metadata": {
    "slideshow": {
     "slide_type": "slide"
    }
   },
   "source": [
    "## Pre-processing"
   ]
  },
  {
   "cell_type": "code",
   "execution_count": 3,
   "metadata": {
    "collapsed": false,
    "slideshow": {
     "slide_type": "fragment"
    }
   },
   "outputs": [],
   "source": [
    "# Fill NaN\n",
    "edx.fillna(0, inplace=True)"
   ]
  },
  {
   "cell_type": "code",
   "execution_count": 4,
   "metadata": {
    "collapsed": false,
    "slideshow": {
     "slide_type": "fragment"
    }
   },
   "outputs": [],
   "source": [
    "# Age\n",
    "edx = edx[edx.BirthYear<>0]\n",
    "edx = edx[edx.BirthYear<=2004]\n",
    "edx['Age'] = edx['BirthYear'].apply(lambda x: 2012 - x)"
   ]
  },
  {
   "cell_type": "code",
   "execution_count": 5,
   "metadata": {
    "collapsed": false,
    "slideshow": {
     "slide_type": "fragment"
    }
   },
   "outputs": [],
   "source": [
    "# country\n",
    "english_speaking = ['United States','Australia','India','Canada'\n",
    "                    ,'United Kingdom', 'Nigeria']\n",
    "\n",
    "nonenglish_speaking = ['France', 'Unknown/Other', 'Mexico','Russian Federation', 'Other South Asia',\n",
    "       'Other North & Central Amer., Caribbean', 'Other Europe',\n",
    "       'Other Oceania', 'Japan', 'Other Africa', 'Colombia', 'Germany',\n",
    "       'Other Middle East/Central Asia', 'Poland', 'Indonesia',\n",
    "       'Other East Asia', 'Bangladesh', 'China',\n",
    "       'Ukraine', 'Spain', 'Greece', 'Pakistan', 'Brazil',\n",
    "       'Egypt', 'Other South America', 'Portugal', 'Philippines', 'Morocco']\n",
    "\n",
    "eng_map = dict(zip(english_speaking,np.ones(len(english_speaking))))\n",
    "noneng_map = dict(zip(nonenglish_speaking,np.zeros(len(nonenglish_speaking))))\n",
    "noneng_map.update(eng_map)\n",
    "\n",
    "edx['english_speaking'] = edx.country.map(noneng_map)\n",
    "edx['Country_US'] = edx['country'].apply(lambda x: 'United States' if x=='United States' else 'other')\n"
   ]
  },
  {
   "cell_type": "code",
   "execution_count": 6,
   "metadata": {
    "collapsed": false
   },
   "outputs": [],
   "source": [
    "# Level of Education\n",
    "edx['LevelofEducation'] = edx['LevelofEducation'].apply(lambda x: 'None' if x==0 else x)\n",
    "new_map = dict(zip(edx.LevelofEducation.unique(),range(len(edx.LevelofEducation.unique()))))\n",
    "edx['education'] = edx.LevelofEducation.map(new_map)"
   ]
  },
  {
   "cell_type": "code",
   "execution_count": 7,
   "metadata": {
    "collapsed": true,
    "slideshow": {
     "slide_type": "subslide"
    }
   },
   "outputs": [],
   "source": [
    "# Gender\n",
    "edx = edx[edx.gender<>'o']\n",
    "edx['genderC'] = edx.gender.map({\"m\": 0,'f': 1})"
   ]
  },
  {
   "cell_type": "code",
   "execution_count": 8,
   "metadata": {
    "collapsed": false,
    "slideshow": {
     "slide_type": "fragment"
    }
   },
   "outputs": [],
   "source": [
    "# Grade\n",
    "edx = edx[edx.grade<>' '] \n",
    "edx.grade = edx.grade.astype(float)"
   ]
  },
  {
   "cell_type": "markdown",
   "metadata": {
    "slideshow": {
     "slide_type": "subslide"
    }
   },
   "source": [
    "## Input and Output "
   ]
  },
  {
   "cell_type": "code",
   "execution_count": 9,
   "metadata": {
    "collapsed": false,
    "slideshow": {
     "slide_type": "fragment"
    }
   },
   "outputs": [],
   "source": [
    "X = edx[['viewed', 'explored','english_speaking', 'education', 'genderC', \n",
    "         'Age', 'nevents','ndays_act', 'nplay_video', 'nchapters', 'nforum_posts']]\n",
    "\n",
    "y = edx[['certified']]\n",
    "\n",
    "X = X.reset_index()\n",
    "y = y.reset_index()\n",
    "y = y.drop('index',1)\n",
    "X = X.drop('index',1)"
   ]
  },
  {
   "cell_type": "code",
   "execution_count": 10,
   "metadata": {
    "collapsed": false,
    "slideshow": {
     "slide_type": "fragment"
    }
   },
   "outputs": [
    {
     "data": {
      "text/html": [
       "<div>\n",
       "<table border=\"1\" class=\"dataframe\">\n",
       "  <thead>\n",
       "    <tr style=\"text-align: right;\">\n",
       "      <th></th>\n",
       "      <th>viewed</th>\n",
       "      <th>explored</th>\n",
       "      <th>english_speaking</th>\n",
       "      <th>education</th>\n",
       "      <th>genderC</th>\n",
       "      <th>Age</th>\n",
       "      <th>nevents</th>\n",
       "      <th>ndays_act</th>\n",
       "      <th>nplay_video</th>\n",
       "      <th>nchapters</th>\n",
       "      <th>nforum_posts</th>\n",
       "      <th>certified</th>\n",
       "    </tr>\n",
       "  </thead>\n",
       "  <tbody>\n",
       "    <tr>\n",
       "      <th>count</th>\n",
       "      <td>535641.000000</td>\n",
       "      <td>535641.000000</td>\n",
       "      <td>535641.000000</td>\n",
       "      <td>535641.000000</td>\n",
       "      <td>535641.000000</td>\n",
       "      <td>535641.000000</td>\n",
       "      <td>535641.000000</td>\n",
       "      <td>535641.000000</td>\n",
       "      <td>535641.000000</td>\n",
       "      <td>535641.000000</td>\n",
       "      <td>535641.000000</td>\n",
       "      <td>535641.000000</td>\n",
       "    </tr>\n",
       "    <tr>\n",
       "      <th>mean</th>\n",
       "      <td>0.618119</td>\n",
       "      <td>0.058539</td>\n",
       "      <td>0.509334</td>\n",
       "      <td>1.131978</td>\n",
       "      <td>0.254359</td>\n",
       "      <td>26.751544</td>\n",
       "      <td>269.297569</td>\n",
       "      <td>3.940051</td>\n",
       "      <td>30.234258</td>\n",
       "      <td>2.078945</td>\n",
       "      <td>0.012673</td>\n",
       "      <td>0.025799</td>\n",
       "    </tr>\n",
       "    <tr>\n",
       "      <th>std</th>\n",
       "      <td>0.485848</td>\n",
       "      <td>0.234760</td>\n",
       "      <td>0.499913</td>\n",
       "      <td>1.115129</td>\n",
       "      <td>0.435501</td>\n",
       "      <td>8.808755</td>\n",
       "      <td>1149.507448</td>\n",
       "      <td>9.678453</td>\n",
       "      <td>191.842946</td>\n",
       "      <td>3.777833</td>\n",
       "      <td>0.152224</td>\n",
       "      <td>0.158535</td>\n",
       "    </tr>\n",
       "    <tr>\n",
       "      <th>min</th>\n",
       "      <td>0.000000</td>\n",
       "      <td>0.000000</td>\n",
       "      <td>0.000000</td>\n",
       "      <td>0.000000</td>\n",
       "      <td>0.000000</td>\n",
       "      <td>9.000000</td>\n",
       "      <td>0.000000</td>\n",
       "      <td>0.000000</td>\n",
       "      <td>0.000000</td>\n",
       "      <td>0.000000</td>\n",
       "      <td>0.000000</td>\n",
       "      <td>0.000000</td>\n",
       "    </tr>\n",
       "    <tr>\n",
       "      <th>25%</th>\n",
       "      <td>0.000000</td>\n",
       "      <td>0.000000</td>\n",
       "      <td>0.000000</td>\n",
       "      <td>0.000000</td>\n",
       "      <td>0.000000</td>\n",
       "      <td>21.000000</td>\n",
       "      <td>0.000000</td>\n",
       "      <td>0.000000</td>\n",
       "      <td>0.000000</td>\n",
       "      <td>0.000000</td>\n",
       "      <td>0.000000</td>\n",
       "      <td>0.000000</td>\n",
       "    </tr>\n",
       "    <tr>\n",
       "      <th>50%</th>\n",
       "      <td>1.000000</td>\n",
       "      <td>0.000000</td>\n",
       "      <td>1.000000</td>\n",
       "      <td>1.000000</td>\n",
       "      <td>0.000000</td>\n",
       "      <td>24.000000</td>\n",
       "      <td>3.000000</td>\n",
       "      <td>1.000000</td>\n",
       "      <td>0.000000</td>\n",
       "      <td>1.000000</td>\n",
       "      <td>0.000000</td>\n",
       "      <td>0.000000</td>\n",
       "    </tr>\n",
       "    <tr>\n",
       "      <th>75%</th>\n",
       "      <td>1.000000</td>\n",
       "      <td>0.000000</td>\n",
       "      <td>1.000000</td>\n",
       "      <td>2.000000</td>\n",
       "      <td>1.000000</td>\n",
       "      <td>30.000000</td>\n",
       "      <td>60.000000</td>\n",
       "      <td>3.000000</td>\n",
       "      <td>2.000000</td>\n",
       "      <td>2.000000</td>\n",
       "      <td>0.000000</td>\n",
       "      <td>0.000000</td>\n",
       "    </tr>\n",
       "    <tr>\n",
       "      <th>max</th>\n",
       "      <td>1.000000</td>\n",
       "      <td>1.000000</td>\n",
       "      <td>1.000000</td>\n",
       "      <td>5.000000</td>\n",
       "      <td>1.000000</td>\n",
       "      <td>81.000000</td>\n",
       "      <td>53180.000000</td>\n",
       "      <td>205.000000</td>\n",
       "      <td>34596.000000</td>\n",
       "      <td>47.000000</td>\n",
       "      <td>6.000000</td>\n",
       "      <td>1.000000</td>\n",
       "    </tr>\n",
       "  </tbody>\n",
       "</table>\n",
       "</div>"
      ],
      "text/plain": [
       "              viewed       explored  english_speaking      education  \\\n",
       "count  535641.000000  535641.000000     535641.000000  535641.000000   \n",
       "mean        0.618119       0.058539          0.509334       1.131978   \n",
       "std         0.485848       0.234760          0.499913       1.115129   \n",
       "min         0.000000       0.000000          0.000000       0.000000   \n",
       "25%         0.000000       0.000000          0.000000       0.000000   \n",
       "50%         1.000000       0.000000          1.000000       1.000000   \n",
       "75%         1.000000       0.000000          1.000000       2.000000   \n",
       "max         1.000000       1.000000          1.000000       5.000000   \n",
       "\n",
       "             genderC            Age        nevents      ndays_act  \\\n",
       "count  535641.000000  535641.000000  535641.000000  535641.000000   \n",
       "mean        0.254359      26.751544     269.297569       3.940051   \n",
       "std         0.435501       8.808755    1149.507448       9.678453   \n",
       "min         0.000000       9.000000       0.000000       0.000000   \n",
       "25%         0.000000      21.000000       0.000000       0.000000   \n",
       "50%         0.000000      24.000000       3.000000       1.000000   \n",
       "75%         1.000000      30.000000      60.000000       3.000000   \n",
       "max         1.000000      81.000000   53180.000000     205.000000   \n",
       "\n",
       "         nplay_video      nchapters   nforum_posts      certified  \n",
       "count  535641.000000  535641.000000  535641.000000  535641.000000  \n",
       "mean       30.234258       2.078945       0.012673       0.025799  \n",
       "std       191.842946       3.777833       0.152224       0.158535  \n",
       "min         0.000000       0.000000       0.000000       0.000000  \n",
       "25%         0.000000       0.000000       0.000000       0.000000  \n",
       "50%         0.000000       1.000000       0.000000       0.000000  \n",
       "75%         2.000000       2.000000       0.000000       0.000000  \n",
       "max     34596.000000      47.000000       6.000000       1.000000  "
      ]
     },
     "execution_count": 10,
     "metadata": {},
     "output_type": "execute_result"
    }
   ],
   "source": [
    "corr = edx[['viewed', 'explored','english_speaking', 'education', 'genderC', \n",
    "         'Age', 'nevents','ndays_act', 'nplay_video', 'nchapters', 'nforum_posts','certified']]\n",
    "corr.describe()"
   ]
  },
  {
   "cell_type": "code",
   "execution_count": 11,
   "metadata": {
    "collapsed": false,
    "slideshow": {
     "slide_type": "fragment"
    }
   },
   "outputs": [
    {
     "data": {
      "image/png": "[encoded data removed]",
      "text/plain": [
       "<matplotlib.figure.Figure at 0x1047b6090>"
      ]
     },
     "metadata": {},
     "output_type": "display_data"
    }
   ],
   "source": [
    "#CORR PLOT\n",
    "_ = pd.scatter_matrix(corr.loc[:,'viewed':'certified'], figsize=(12,8))"
   ]
  },
  {
   "cell_type": "markdown",
   "metadata": {
    "collapsed": true,
    "slideshow": {
     "slide_type": "slide"
    }
   },
   "source": [
    "# Building a classifier"
   ]
  },
  {
   "cell_type": "markdown",
   "metadata": {
    "collapsed": true,
    "slideshow": {
     "slide_type": "subslide"
    }
   },
   "source": [
    "## Dividing data to training and test set"
   ]
  },
  {
   "cell_type": "code",
   "execution_count": 12,
   "metadata": {
    "collapsed": false,
    "slideshow": {
     "slide_type": "fragment"
    }
   },
   "outputs": [],
   "source": [
    "# dividing data to training and testing\n",
    "sss = StratifiedShuffleSplit(y, 3, test_size=0.25, random_state=110)\n",
    "X1 = X.values\n",
    "y1 = y.values\n",
    "for train_index, test_index in sss:\n",
    "    X_train, X_test = X1[train_index], X1[test_index]\n",
    "    y_train, y_test = y1[train_index], y1[test_index]"
   ]
  },
  {
   "cell_type": "code",
   "execution_count": 13,
   "metadata": {
    "collapsed": false,
    "slideshow": {
     "slide_type": "fragment"
    }
   },
   "outputs": [
    {
     "name": "stdout",
     "output_type": "stream",
     "text": [
      "401730 training records\n",
      "133911 test records\n"
     ]
    }
   ],
   "source": [
    "print str(X_train.shape[0]) + ' training records'\n",
    "print str(X_test.shape[0]) + ' test records'"
   ]
  },
  {
   "cell_type": "markdown",
   "metadata": {
    "slideshow": {
     "slide_type": "slide"
    }
   },
   "source": [
    "## Classification"
   ]
  },
  {
   "cell_type": "markdown",
   "metadata": {
    "slideshow": {
     "slide_type": "subslide"
    }
   },
   "source": [
    "### Gradient boosting trees"
   ]
  },
  {
   "cell_type": "code",
   "execution_count": 23,
   "metadata": {
    "collapsed": false,
    "slideshow": {
     "slide_type": "fragment"
    }
   },
   "outputs": [
    {
     "name": "stderr",
     "output_type": "stream",
     "text": [
      "/Users/aessa/anaconda/lib/python2.7/site-packages/sklearn/utils/validation.py:449: DataConversionWarning:\n",
      "\n",
      "A column-vector y was passed when a 1d array was expected. Please change the shape of y to (n_samples, ), for example using ravel().\n",
      "\n"
     ]
    },
    {
     "data": {
      "text/plain": [
       "GradientBoostingClassifier(init=None, learning_rate=0.1, loss='deviance',\n",
       "              max_depth=3, max_features=None, max_leaf_nodes=None,\n",
       "              min_samples_leaf=1, min_samples_split=2,\n",
       "              min_weight_fraction_leaf=0.0, n_estimators=100,\n",
       "              random_state=None, subsample=1.0, verbose=0,\n",
       "              warm_start=False)"
      ]
     },
     "execution_count": 23,
     "metadata": {},
     "output_type": "execute_result"
    }
   ],
   "source": [
    "# Gradient Boosting Classifier\n",
    "gbc = ensemble.GradientBoostingClassifier()\n",
    "gbc.fit(X_train, y_train)"
   ]
  },
  {
   "cell_type": "code",
   "execution_count": 24,
   "metadata": {
    "collapsed": false,
    "slideshow": {
     "slide_type": "fragment"
    }
   },
   "outputs": [
    {
     "name": "stdout",
     "output_type": "stream",
     "text": [
      "training and testing accuracies are:  98 % and  98 %\n"
     ]
    }
   ],
   "source": [
    "# accuracy\n",
    "training_accuracy = metrics.accuracy_score(y_train, gbc.predict(X_train))\n",
    "testing_accuracy = metrics.accuracy_score(y_test, gbc.predict(X_test))\n",
    "print \"training and testing accuracies are: \", int(training_accuracy*100), \"% and \", int(testing_accuracy*100),\"%\""
   ]
  },
  {
   "cell_type": "code",
   "execution_count": 25,
   "metadata": {
    "collapsed": false,
    "slideshow": {
     "slide_type": "fragment"
    }
   },
   "outputs": [],
   "source": [
    "# Plot feature importance\n",
    "feature_importance = gbc.feature_importances_\n",
    "\n",
    "# make importances relative to max importance\n",
    "feature_importance = 100.0 * (feature_importance / feature_importance.max())\n",
    "feature_improtance_sorted = pd.DataFrame(feature_importance)\n",
    "feature_improtance_sorted.columns = ['importance']\n",
    "feature_improtance_sorted['features'] = ['viewed','explored','english_speaking','education','genderC','age','nevents','ndays_act','nplay_video','nchapters','nforum_posts']\n",
    "feature_improtance_sorted = feature_improtance_sorted.sort(columns='importance',ascending = False)"
   ]
  },
  {
   "cell_type": "code",
   "execution_count": 26,
   "metadata": {
    "collapsed": false
   },
   "outputs": [
    {
     "data": {
      "text/html": [
       "<div>\n",
       "<table border=\"1\" class=\"dataframe\">\n",
       "  <thead>\n",
       "    <tr style=\"text-align: right;\">\n",
       "      <th></th>\n",
       "      <th>importance</th>\n",
       "      <th>features</th>\n",
       "    </tr>\n",
       "  </thead>\n",
       "  <tbody>\n",
       "    <tr>\n",
       "      <th>9</th>\n",
       "      <td>100.000000</td>\n",
       "      <td>nchapters</td>\n",
       "    </tr>\n",
       "    <tr>\n",
       "      <th>6</th>\n",
       "      <td>71.333733</td>\n",
       "      <td>nevents</td>\n",
       "    </tr>\n",
       "    <tr>\n",
       "      <th>8</th>\n",
       "      <td>45.635065</td>\n",
       "      <td>nplay_video</td>\n",
       "    </tr>\n",
       "    <tr>\n",
       "      <th>7</th>\n",
       "      <td>44.578380</td>\n",
       "      <td>ndays_act</td>\n",
       "    </tr>\n",
       "    <tr>\n",
       "      <th>5</th>\n",
       "      <td>27.976770</td>\n",
       "      <td>age</td>\n",
       "    </tr>\n",
       "    <tr>\n",
       "      <th>1</th>\n",
       "      <td>18.965438</td>\n",
       "      <td>explored</td>\n",
       "    </tr>\n",
       "    <tr>\n",
       "      <th>4</th>\n",
       "      <td>17.697804</td>\n",
       "      <td>genderC</td>\n",
       "    </tr>\n",
       "    <tr>\n",
       "      <th>10</th>\n",
       "      <td>4.864607</td>\n",
       "      <td>nforum_posts</td>\n",
       "    </tr>\n",
       "    <tr>\n",
       "      <th>3</th>\n",
       "      <td>4.196634</td>\n",
       "      <td>education</td>\n",
       "    </tr>\n",
       "    <tr>\n",
       "      <th>2</th>\n",
       "      <td>0.100393</td>\n",
       "      <td>english_speaking</td>\n",
       "    </tr>\n",
       "    <tr>\n",
       "      <th>0</th>\n",
       "      <td>0.000000</td>\n",
       "      <td>viewed</td>\n",
       "    </tr>\n",
       "  </tbody>\n",
       "</table>\n",
       "</div>"
      ],
      "text/plain": [
       "    importance          features\n",
       "9   100.000000         nchapters\n",
       "6    71.333733           nevents\n",
       "8    45.635065       nplay_video\n",
       "7    44.578380         ndays_act\n",
       "5    27.976770               age\n",
       "1    18.965438          explored\n",
       "4    17.697804           genderC\n",
       "10    4.864607      nforum_posts\n",
       "3     4.196634         education\n",
       "2     0.100393  english_speaking\n",
       "0     0.000000            viewed"
      ]
     },
     "execution_count": 26,
     "metadata": {},
     "output_type": "execute_result"
    }
   ],
   "source": [
    "feature_improtance_sorted"
   ]
  },
  {
   "cell_type": "code",
   "execution_count": 27,
   "metadata": {
    "collapsed": false,
    "slideshow": {
     "slide_type": "fragment"
    }
   },
   "outputs": [
    {
     "data": {
      "text/html": [
       "<iframe id=\"igraph\" scrolling=\"no\" style=\"border:none;\"seamless=\"seamless\" src=\"https://plot.ly/~malpaso/27.embed\" height=\"525\" width=\"100%\"></iframe>"
      ],
      "text/plain": [
       "<plotly.tools.PlotlyDisplay object>"
      ]
     },
     "execution_count": 27,
     "metadata": {},
     "output_type": "execute_result"
    }
   ],
   "source": [
    "data = Data([\n",
    "    Bar(\n",
    "        x=feature_improtance_sorted.features,\n",
    "        y=feature_improtance_sorted.importance\n",
    "    )\n",
    "])\n",
    "py.iplot(data, filename = 'feature importance')"
   ]
  },
  {
   "cell_type": "markdown",
   "metadata": {
    "collapsed": true,
    "slideshow": {
     "slide_type": "skip"
    }
   },
   "source": [
    "## Normalize data"
   ]
  },
  {
   "cell_type": "code",
   "execution_count": 28,
   "metadata": {
    "collapsed": false,
    "slideshow": {
     "slide_type": "skip"
    }
   },
   "outputs": [
    {
     "data": {
      "text/html": [
       "<div>\n",
       "<table border=\"1\" class=\"dataframe\">\n",
       "  <thead>\n",
       "    <tr style=\"text-align: right;\">\n",
       "      <th></th>\n",
       "      <th>viewed</th>\n",
       "      <th>explored</th>\n",
       "      <th>english_speaking</th>\n",
       "      <th>education</th>\n",
       "      <th>genderC</th>\n",
       "      <th>age</th>\n",
       "      <th>nevents</th>\n",
       "      <th>ndays_act</th>\n",
       "      <th>nplay_video</th>\n",
       "      <th>nchapters</th>\n",
       "      <th>nforum_posts</th>\n",
       "    </tr>\n",
       "  </thead>\n",
       "  <tbody>\n",
       "    <tr>\n",
       "      <th>count</th>\n",
       "      <td>5.356410e+05</td>\n",
       "      <td>5.356410e+05</td>\n",
       "      <td>5.356410e+05</td>\n",
       "      <td>5.356410e+05</td>\n",
       "      <td>5.356410e+05</td>\n",
       "      <td>5.356410e+05</td>\n",
       "      <td>5.356410e+05</td>\n",
       "      <td>5.356410e+05</td>\n",
       "      <td>5.356410e+05</td>\n",
       "      <td>5.356410e+05</td>\n",
       "      <td>5.356410e+05</td>\n",
       "    </tr>\n",
       "    <tr>\n",
       "      <th>mean</th>\n",
       "      <td>4.810191e-13</td>\n",
       "      <td>-1.275852e-13</td>\n",
       "      <td>2.831151e-13</td>\n",
       "      <td>4.340694e-14</td>\n",
       "      <td>-8.283623e-14</td>\n",
       "      <td>-3.324211e-14</td>\n",
       "      <td>-7.925187e-14</td>\n",
       "      <td>-3.893750e-14</td>\n",
       "      <td>1.837405e-13</td>\n",
       "      <td>1.022202e-13</td>\n",
       "      <td>-1.370519e-13</td>\n",
       "    </tr>\n",
       "    <tr>\n",
       "      <th>std</th>\n",
       "      <td>1.000001e+00</td>\n",
       "      <td>1.000001e+00</td>\n",
       "      <td>1.000001e+00</td>\n",
       "      <td>1.000001e+00</td>\n",
       "      <td>1.000001e+00</td>\n",
       "      <td>1.000001e+00</td>\n",
       "      <td>1.000001e+00</td>\n",
       "      <td>1.000001e+00</td>\n",
       "      <td>1.000001e+00</td>\n",
       "      <td>1.000001e+00</td>\n",
       "      <td>1.000001e+00</td>\n",
       "    </tr>\n",
       "    <tr>\n",
       "      <th>min</th>\n",
       "      <td>-1.272249e+00</td>\n",
       "      <td>-2.493574e-01</td>\n",
       "      <td>-1.018845e+00</td>\n",
       "      <td>-1.015111e+00</td>\n",
       "      <td>-5.840613e-01</td>\n",
       "      <td>-2.015218e+00</td>\n",
       "      <td>-2.342724e-01</td>\n",
       "      <td>-4.070955e-01</td>\n",
       "      <td>-1.575992e-01</td>\n",
       "      <td>-5.503013e-01</td>\n",
       "      <td>-8.325004e-02</td>\n",
       "    </tr>\n",
       "    <tr>\n",
       "      <th>25%</th>\n",
       "      <td>-1.272249e+00</td>\n",
       "      <td>-2.493574e-01</td>\n",
       "      <td>-1.018845e+00</td>\n",
       "      <td>-1.015111e+00</td>\n",
       "      <td>-5.840613e-01</td>\n",
       "      <td>-6.529356e-01</td>\n",
       "      <td>-2.342724e-01</td>\n",
       "      <td>-4.070955e-01</td>\n",
       "      <td>-1.575992e-01</td>\n",
       "      <td>-5.503013e-01</td>\n",
       "      <td>-8.325004e-02</td>\n",
       "    </tr>\n",
       "    <tr>\n",
       "      <th>50%</th>\n",
       "      <td>7.860095e-01</td>\n",
       "      <td>-2.493574e-01</td>\n",
       "      <td>9.815037e-01</td>\n",
       "      <td>-1.183526e-01</td>\n",
       "      <td>-5.840613e-01</td>\n",
       "      <td>-3.123650e-01</td>\n",
       "      <td>-2.316625e-01</td>\n",
       "      <td>-3.037731e-01</td>\n",
       "      <td>-1.575992e-01</td>\n",
       "      <td>-2.855991e-01</td>\n",
       "      <td>-8.325004e-02</td>\n",
       "    </tr>\n",
       "    <tr>\n",
       "      <th>75%</th>\n",
       "      <td>7.860095e-01</td>\n",
       "      <td>-2.493574e-01</td>\n",
       "      <td>9.815037e-01</td>\n",
       "      <td>7.784055e-01</td>\n",
       "      <td>1.712149e+00</td>\n",
       "      <td>3.687761e-01</td>\n",
       "      <td>-1.820760e-01</td>\n",
       "      <td>-9.712835e-02</td>\n",
       "      <td>-1.471739e-01</td>\n",
       "      <td>-2.089683e-02</td>\n",
       "      <td>-8.325004e-02</td>\n",
       "    </tr>\n",
       "    <tr>\n",
       "      <th>max</th>\n",
       "      <td>7.860095e-01</td>\n",
       "      <td>4.010308e+00</td>\n",
       "      <td>9.815037e-01</td>\n",
       "      <td>3.468680e+00</td>\n",
       "      <td>1.712149e+00</td>\n",
       "      <td>6.158476e+00</td>\n",
       "      <td>4.602906e+01</td>\n",
       "      <td>2.077400e+01</td>\n",
       "      <td>1.801776e+02</td>\n",
       "      <td>1.189070e+01</td>\n",
       "      <td>3.933231e+01</td>\n",
       "    </tr>\n",
       "  </tbody>\n",
       "</table>\n",
       "</div>"
      ],
      "text/plain": [
       "             viewed      explored  english_speaking     education  \\\n",
       "count  5.356410e+05  5.356410e+05      5.356410e+05  5.356410e+05   \n",
       "mean   4.810191e-13 -1.275852e-13      2.831151e-13  4.340694e-14   \n",
       "std    1.000001e+00  1.000001e+00      1.000001e+00  1.000001e+00   \n",
       "min   -1.272249e+00 -2.493574e-01     -1.018845e+00 -1.015111e+00   \n",
       "25%   -1.272249e+00 -2.493574e-01     -1.018845e+00 -1.015111e+00   \n",
       "50%    7.860095e-01 -2.493574e-01      9.815037e-01 -1.183526e-01   \n",
       "75%    7.860095e-01 -2.493574e-01      9.815037e-01  7.784055e-01   \n",
       "max    7.860095e-01  4.010308e+00      9.815037e-01  3.468680e+00   \n",
       "\n",
       "            genderC           age       nevents     ndays_act   nplay_video  \\\n",
       "count  5.356410e+05  5.356410e+05  5.356410e+05  5.356410e+05  5.356410e+05   \n",
       "mean  -8.283623e-14 -3.324211e-14 -7.925187e-14 -3.893750e-14  1.837405e-13   \n",
       "std    1.000001e+00  1.000001e+00  1.000001e+00  1.000001e+00  1.000001e+00   \n",
       "min   -5.840613e-01 -2.015218e+00 -2.342724e-01 -4.070955e-01 -1.575992e-01   \n",
       "25%   -5.840613e-01 -6.529356e-01 -2.342724e-01 -4.070955e-01 -1.575992e-01   \n",
       "50%   -5.840613e-01 -3.123650e-01 -2.316625e-01 -3.037731e-01 -1.575992e-01   \n",
       "75%    1.712149e+00  3.687761e-01 -1.820760e-01 -9.712835e-02 -1.471739e-01   \n",
       "max    1.712149e+00  6.158476e+00  4.602906e+01  2.077400e+01  1.801776e+02   \n",
       "\n",
       "          nchapters  nforum_posts  \n",
       "count  5.356410e+05  5.356410e+05  \n",
       "mean   1.022202e-13 -1.370519e-13  \n",
       "std    1.000001e+00  1.000001e+00  \n",
       "min   -5.503013e-01 -8.325004e-02  \n",
       "25%   -5.503013e-01 -8.325004e-02  \n",
       "50%   -2.855991e-01 -8.325004e-02  \n",
       "75%   -2.089683e-02 -8.325004e-02  \n",
       "max    1.189070e+01  3.933231e+01  "
      ]
     },
     "execution_count": 28,
     "metadata": {},
     "output_type": "execute_result"
    }
   ],
   "source": [
    "X_scaled = preprocessing.scale(X)\n",
    "X_scaled_df = pd.DataFrame(X_scaled)\n",
    "X_scaled_df.columns = ['viewed','explored','english_speaking','education','genderC','age','nevents','ndays_act','nplay_video','nchapters','nforum_posts']\n",
    "X_scaled_df.describe()"
   ]
  },
  {
   "cell_type": "markdown",
   "metadata": {
    "slideshow": {
     "slide_type": "skip"
    }
   },
   "source": [
    "# k-means Clustering"
   ]
  },
  {
   "cell_type": "markdown",
   "metadata": {
    "slideshow": {
     "slide_type": "skip"
    }
   },
   "source": [
    "### Elbow Curve"
   ]
  },
  {
   "cell_type": "code",
   "execution_count": 29,
   "metadata": {
    "collapsed": false,
    "slideshow": {
     "slide_type": "skip"
    }
   },
   "outputs": [],
   "source": [
    "##### cluster data into K=1..10 clusters #####\n",
    "K = range(2,10)\n",
    "KM = [kmeans(X_scaled,k) for k in K]\n",
    "centroids = [cent for (cent,var) in KM]   # cluster centroids\n",
    "avgWithinSS = [var for (cent,var) in KM] # mean within-cluster sum of squares"
   ]
  },
  {
   "cell_type": "code",
   "execution_count": 30,
   "metadata": {
    "collapsed": false,
    "slideshow": {
     "slide_type": "skip"
    }
   },
   "outputs": [
    {
     "data": {
      "image/png": "[encoded data removed]",
      "text/plain": [
       "<matplotlib.figure.Figure at 0x13166c8d0>"
      ]
     },
     "metadata": {},
     "output_type": "display_data"
    }
   ],
   "source": [
    "##### elbow curve #####\n",
    "kIdx = 5\n",
    "fig = plt.figure()\n",
    "ax = fig.add_subplot(111)\n",
    "ax.plot(K, avgWithinSS, 'b*-')\n",
    "ax.plot(K[kIdx], avgWithinSS[kIdx], marker='o', markersize=12, markeredgewidth=2, markeredgecolor='r', markerfacecolor='None')\n",
    "plt.grid(True)\n",
    "plt.xlabel('Number of clusters')\n",
    "plt.ylabel('Average within-cluster sum of squares')\n",
    "plt.title('Elbow for KMeans clustering')\n",
    "fig.savefig(\"elbow.png\")\n",
    "plt.show()"
   ]
  },
  {
   "cell_type": "markdown",
   "metadata": {
    "slideshow": {
     "slide_type": "skip"
    }
   },
   "source": [
    "### Clustering"
   ]
  },
  {
   "cell_type": "code",
   "execution_count": 31,
   "metadata": {
    "collapsed": false,
    "slideshow": {
     "slide_type": "skip"
    }
   },
   "outputs": [],
   "source": [
    "##### k-means #####\n",
    "k = 7\n",
    "km = KMeans(n_clusters = k)\n",
    "km.fit(X_scaled_df)\n",
    "cluster = pd.DataFrame(km.labels_)\n",
    "cluster.columns = ['ClusterLabel']\n",
    "cluster = X.join(cluster)"
   ]
  },
  {
   "cell_type": "code",
   "execution_count": 32,
   "metadata": {
    "collapsed": false,
    "slideshow": {
     "slide_type": "skip"
    }
   },
   "outputs": [
    {
     "data": {
      "text/html": [
       "<div>\n",
       "<table border=\"1\" class=\"dataframe\">\n",
       "  <thead>\n",
       "    <tr style=\"text-align: right;\">\n",
       "      <th></th>\n",
       "      <th>certified</th>\n",
       "      <th>viewed</th>\n",
       "      <th>explored</th>\n",
       "      <th>english_speaking</th>\n",
       "      <th>education</th>\n",
       "      <th>genderC</th>\n",
       "      <th>Age</th>\n",
       "      <th>nevents</th>\n",
       "      <th>ndays_act</th>\n",
       "      <th>nplay_video</th>\n",
       "      <th>nchapters</th>\n",
       "      <th>nforum_posts</th>\n",
       "      <th>ClusterLabel</th>\n",
       "    </tr>\n",
       "  </thead>\n",
       "  <tbody>\n",
       "    <tr>\n",
       "      <th>0</th>\n",
       "      <td>0</td>\n",
       "      <td>0</td>\n",
       "      <td>0</td>\n",
       "      <td>0</td>\n",
       "      <td>0</td>\n",
       "      <td>0</td>\n",
       "      <td>25</td>\n",
       "      <td>0</td>\n",
       "      <td>0</td>\n",
       "      <td>0</td>\n",
       "      <td>0</td>\n",
       "      <td>0</td>\n",
       "      <td>0</td>\n",
       "    </tr>\n",
       "    <tr>\n",
       "      <th>1</th>\n",
       "      <td>0</td>\n",
       "      <td>0</td>\n",
       "      <td>0</td>\n",
       "      <td>1</td>\n",
       "      <td>0</td>\n",
       "      <td>1</td>\n",
       "      <td>44</td>\n",
       "      <td>0</td>\n",
       "      <td>0</td>\n",
       "      <td>0</td>\n",
       "      <td>0</td>\n",
       "      <td>0</td>\n",
       "      <td>4</td>\n",
       "    </tr>\n",
       "    <tr>\n",
       "      <th>2</th>\n",
       "      <td>0</td>\n",
       "      <td>0</td>\n",
       "      <td>0</td>\n",
       "      <td>1</td>\n",
       "      <td>1</td>\n",
       "      <td>0</td>\n",
       "      <td>23</td>\n",
       "      <td>6</td>\n",
       "      <td>3</td>\n",
       "      <td>0</td>\n",
       "      <td>0</td>\n",
       "      <td>0</td>\n",
       "      <td>0</td>\n",
       "    </tr>\n",
       "    <tr>\n",
       "      <th>3</th>\n",
       "      <td>0</td>\n",
       "      <td>0</td>\n",
       "      <td>0</td>\n",
       "      <td>0</td>\n",
       "      <td>2</td>\n",
       "      <td>0</td>\n",
       "      <td>34</td>\n",
       "      <td>0</td>\n",
       "      <td>0</td>\n",
       "      <td>0</td>\n",
       "      <td>0</td>\n",
       "      <td>0</td>\n",
       "      <td>0</td>\n",
       "    </tr>\n",
       "    <tr>\n",
       "      <th>4</th>\n",
       "      <td>0</td>\n",
       "      <td>1</td>\n",
       "      <td>0</td>\n",
       "      <td>1</td>\n",
       "      <td>0</td>\n",
       "      <td>0</td>\n",
       "      <td>19</td>\n",
       "      <td>107</td>\n",
       "      <td>8</td>\n",
       "      <td>7</td>\n",
       "      <td>2</td>\n",
       "      <td>0</td>\n",
       "      <td>1</td>\n",
       "    </tr>\n",
       "  </tbody>\n",
       "</table>\n",
       "</div>"
      ],
      "text/plain": [
       "   certified  viewed  explored  english_speaking  education  genderC  Age  \\\n",
       "0          0       0         0                 0          0        0   25   \n",
       "1          0       0         0                 1          0        1   44   \n",
       "2          0       0         0                 1          1        0   23   \n",
       "3          0       0         0                 0          2        0   34   \n",
       "4          0       1         0                 1          0        0   19   \n",
       "\n",
       "   nevents  ndays_act  nplay_video  nchapters  nforum_posts  ClusterLabel  \n",
       "0        0          0            0          0             0             0  \n",
       "1        0          0            0          0             0             4  \n",
       "2        6          3            0          0             0             0  \n",
       "3        0          0            0          0             0             0  \n",
       "4      107          8            7          2             0             1  "
      ]
     },
     "execution_count": 32,
     "metadata": {},
     "output_type": "execute_result"
    }
   ],
   "source": [
    "cluster = y.join(cluster)\n",
    "cluster.head()"
   ]
  },
  {
   "cell_type": "code",
   "execution_count": null,
   "metadata": {
    "collapsed": false
   },
   "outputs": [],
   "source": [
    "ClusterSize = pd.DataFrame({'Cluster Size':cluster[['ClusterLabel']].groupby('ClusterLabel').size()}).reset_index()\n",
    "ClusterSize"
   ]
  },
  {
   "cell_type": "code",
   "execution_count": null,
   "metadata": {
    "collapsed": false,
    "slideshow": {
     "slide_type": "skip"
    }
   },
   "outputs": [],
   "source": [
    "alist = []\n",
    "cluster = cluster.dropna()\n",
    "for i in cluster['ClusterLabel'].unique():\n",
    "    a = cluster[cluster['ClusterLabel']==i].mean()\n",
    "    alist.append(a)\n",
    "ClusterStats = pd.DataFrame(alist)\n",
    "ClusterStats = ClusterStats.merge(ClusterSize,on='ClusterLabel')"
   ]
  },
  {
   "cell_type": "code",
   "execution_count": null,
   "metadata": {
    "collapsed": false
   },
   "outputs": [],
   "source": [
    "ClusterStats"
   ]
  },
  {
   "cell_type": "markdown",
   "metadata": {
    "collapsed": true,
    "slideshow": {
     "slide_type": "skip"
    }
   },
   "source": [
    "* Group 5 with high certification rate has below characteristics:\n",
    "    * very high number of events\n",
    "    * High number of days active on the course\n",
    "    * High number of viewed videos and completed chapters "
   ]
  },
  {
   "cell_type": "code",
   "execution_count": null,
   "metadata": {
    "collapsed": false
   },
   "outputs": [],
   "source": [
    "cluster[['nevents','ClusterLabel']].boxplot(by='ClusterLabel')\n",
    "plt.show()"
   ]
  },
  {
   "cell_type": "code",
   "execution_count": null,
   "metadata": {
    "collapsed": false
   },
   "outputs": [],
   "source": [
    "cluster[['ndays_act','ClusterLabel']].boxplot(by='ClusterLabel')\n",
    "plt.show()"
   ]
  },
  {
   "cell_type": "code",
   "execution_count": null,
   "metadata": {
    "collapsed": false
   },
   "outputs": [],
   "source": [
    "cluster[['nplay_video','ClusterLabel']].boxplot(by='ClusterLabel')\n",
    "plt.show()"
   ]
  },
  {
   "cell_type": "code",
   "execution_count": null,
   "metadata": {
    "collapsed": false
   },
   "outputs": [],
   "source": [
    "cluster[['nchapters','ClusterLabel']].boxplot(by='ClusterLabel')\n",
    "plt.show()"
   ]
  },
  {
   "cell_type": "markdown",
   "metadata": {
    "slideshow": {
     "slide_type": "skip"
    }
   },
   "source": [
    "### Function for Machine Learning"
   ]
  },
  {
   "cell_type": "code",
   "execution_count": null,
   "metadata": {
    "collapsed": false
   },
   "outputs": [],
   "source": [
    "def runModels(dataSet, featureArray, modelNum, answerCol):\n",
    "# 1 for KNN\n",
    "# 2 for Naive Bayes\n",
    "# 3 for Logistic Regression\n",
    "# 4 for random forest\n",
    "    myFeatures = ''\n",
    "    for i in (range(len(featureArray))): \n",
    "        myFeatures += featureArray[i] + ' ';\n",
    "    dataSet['A'] = list(range(len(dataSet.index)))  \n",
    "    testSampleSize = dataSet['A'].nunique()/5\n",
    "    trainingSampleSize = dataSet['A'].nunique() - testSampleSize\n",
    "    rows = random.sample(dataSet.A, int(testSampleSize))\n",
    "    testData = dataSet[dataSet['A'].isin(rows)]\n",
    "    trainingData = dataSet[dataSet['A'].isin(rows)==False]\n",
    "\n",
    "   \n",
    "    X = trainingData[featureArray]\n",
    "    y = trainingData[answerCol]\n",
    "    X_test = testData[featureArray]\n",
    "    y_test = testData[answerCol]\n",
    "\n",
    "    if modelNum == 1:\n",
    "        modelName = 'KNN'\n",
    "        clf = neighbors.KNeighborsClassifier(10, weights='uniform') #tried a few numbers for K, 10 gave best results\n",
    "    \n",
    "    if modelNum == 2:\n",
    "        modelName = 'Naive Bayes'\n",
    "        clf = gnb()\n",
    "\n",
    "    if modelNum == 3:\n",
    "        modelName = 'Logistic Regression'\n",
    "        clf = LogisticRegression()\n",
    "\n",
    "    if modelNum == 4:\n",
    "        modelName = 'Random Forest'\n",
    "        clf = rfc()\n",
    "        \n",
    "    if modelNum == 5:\n",
    "        modelName = 'Gradient Boosting'\n",
    "        clf = ensemble.GradientBoostingClassifier()\n",
    "    \n",
    "    clf = clf.fit(X,y)\n",
    "    y_score = clf.predict(testData[featureArray])\n",
    "    real = testData[answerCol]\n",
    "    #RMSE= round(sqrt(sum(pow((predictions-real),2))/float(len(real))),2) #RMSE=0.290\n",
    "    a=(y_score-real).tolist().count(1) #predicting \"on task\" on a \"off task\" student \n",
    "    b=  real.tolist().count(0)\n",
    "    errOffTask = round(a/float(b),2)\n",
    "    c=(y_score-real).tolist().count(-1) #predicting \"off task\" on a \"on task\"  students\n",
    "    d=real.tolist().count(1)\n",
    "    errOnTask =round( c/float(d),2)\n",
    "    accuracy = round((y_score-real).tolist().count(0)/float(len(real)),2) #overall accuracy\n",
    "    roc_Auc =  roc_auc_score(real, y_score)\n",
    "    (p, r, f, s) = precision_recall_fscore_support(real, y_score, average='macro')\n",
    "    print ('Results for '+ modelName)\n",
    "    print ('Results for '+ myFeatures)\n",
    "    #print ( 'RMSE = ' + str(RMSE))\n",
    "    \n",
    "    print ( 'AUC = ' + str(round(roc_Auc,2)))\n",
    "    print ( 'Predicted \"success\" on a \"failure\" project: '+ str(a))\n",
    "    print ('Total \"failure\" project: '+ str(b))\n",
    "    print ('Predicted \"failure\" on a \"success\" project: '+ str(c))\n",
    "    print ('Total \"success\" project: ' + str (d))\n",
    "    print ('Error failure: '+ str(round(errOffTask,2)))\n",
    "    print ('Error success: '+  str(round(errOnTask,2)))\n",
    "    print ('Precision: '+  str(round(p,2)))\n",
    "    print ('Recall: '+  str(round(r,2)))\n",
    "    print ('Overall Accuracy: ' + str(accuracy))\n",
    "    #return (roc_Auc, a, b, c, d, errOffTask, errOnTask, accuracy)\n",
    "    \n",
    "    # Compute ROC curve and ROC area for each class\n",
    "#     fpr = dict()\n",
    "#     tpr = dict()\n",
    "#     roc_auc = dict()\n",
    "#     for i in range(dataSet[answerCol].nunique()):\n",
    "#         fpr[i], tpr[i], _ = roc_curve(y_test[:, i], y_score[:, i])\n",
    "#         roc_auc[i] = auc(fpr[i], tpr[i])\n",
    "\n",
    "    # Compute micro-average ROC curve and ROC area\n",
    "    fpr, tpr, _ = roc_curve(y_test, y_score)\n",
    "    roc_auc = auc(fpr, tpr)\n",
    "\n",
    "    # Plot ROC curve\n",
    "    plt.figure()\n",
    "    plt.plot(fpr, tpr, label='ROC curve (area = %0.2f)' % roc_auc)\n",
    "    plt.plot([0, 1], [0, 1], 'k--')\n",
    "    plt.xlim([0.0, 1.0])\n",
    "    plt.ylim([0.0, 1.05])\n",
    "    plt.xlabel('False Positive Rate')\n",
    "    plt.ylabel('True Positive Rate')\n",
    "    plt.title('Receiver operating characteristic')\n",
    "    plt.legend(loc=\"lower right\")\n",
    "    plt.show()"
   ]
  },
  {
   "cell_type": "code",
   "execution_count": null,
   "metadata": {
    "collapsed": false,
    "scrolled": true
   },
   "outputs": [],
   "source": [
    "featureSet1= ['viewed','explored','english_speaking','education','genderC','Age','nevents','ndays_act','nplay_video','nchapters','nforum_posts','grade']\n",
    "runModels(edx, featureSet1,2, 'certified')"
   ]
  },
  {
   "cell_type": "code",
   "execution_count": null,
   "metadata": {
    "collapsed": false
   },
   "outputs": [],
   "source": [
    "featureSet1= ['nevents','ndays_act','nchapters']\n",
    "runModels(edx, featureSet1,3, 'certified')"
   ]
  },
  {
   "cell_type": "code",
   "execution_count": null,
   "metadata": {
    "collapsed": false
   },
   "outputs": [],
   "source": [
    "featureSet1= ['viewed','explored','english_speaking','education','genderC','Age','nevents','ndays_act','nplay_video','nchapters','nforum_posts','grade']\n",
    "runModels(edx, featureSet1,1, 'certified')"
   ]
  },
  {
   "cell_type": "code",
   "execution_count": null,
   "metadata": {
    "collapsed": false
   },
   "outputs": [],
   "source": [
    "featureSet1= ['nevents','ndays_act','nchapters']\n",
    "runModels(edx, featureSet1,4, 'certified')"
   ]
  },
  {
   "cell_type": "code",
   "execution_count": null,
   "metadata": {
    "collapsed": false
   },
   "outputs": [],
   "source": [
    "featureSet1= ['nevents']\n",
    "runModels(edx, featureSet1,5, 'certified')"
   ]
  },
  {
   "cell_type": "code",
   "execution_count": null,
   "metadata": {
    "collapsed": true
   },
   "outputs": [],
   "source": []
  }
 ],
 "metadata": {
  "celltoolbar": "Slideshow",
  "kernelspec": {
   "display_name": "Python 2",
   "language": "python",
   "name": "python2"
  },
  "language_info": {
   "codemirror_mode": {
    "name": "ipython",
    "version": 2
   },
   "file_extension": ".py",
   "mimetype": "text/x-python",
   "name": "python",
   "nbconvert_exporter": "python",
   "pygments_lexer": "ipython2",
   "version": "2.7.10"
  }
 },
 "nbformat": 4,
 "nbformat_minor": 0
}
